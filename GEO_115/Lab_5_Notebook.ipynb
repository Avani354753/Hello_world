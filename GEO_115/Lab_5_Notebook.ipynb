{
 "cells": [
  {
   "cell_type": "code",
   "execution_count": 7,
   "metadata": {},
   "outputs": [],
   "source": []
  },
  {
   "cell_type": "code",
   "execution_count": 12,
   "metadata": {},
   "outputs": [
    {
     "name": "stdout",
     "output_type": "stream",
     "text": [
      "Field Names: ['FID', 'Shape', 'AREA', 'PERIMETER', 'ZONE_', 'ZONE_ID', 'ECOZONE', 'ZONE_NAME', 'ZONE_NOM']\n"
     ]
    }
   ],
   "source": [
    "import arcpy\n",
    "\n",
    "# Set the workplace\n",
    "arcpy.env.workspace = \"D:\\environmental geomatics\\sem 1\\GEO115\\ecozone_shp\\Ecozones\"\n",
    "\n",
    "# List the fields in the ecozone shapefile\n",
    "fields = arcpy.ListFields(\"ecozones.shp\")\n",
    "\n",
    "# Print the field names\n",
    "field_names = [field.name for field in fields]\n",
    "print(\"Field Names:\", field_names)"
   ]
  },
  {
   "cell_type": "code",
   "execution_count": 24,
   "metadata": {},
   "outputs": [
    {
     "name": "stdout",
     "output_type": "stream",
     "text": [
      "{'Northern Arctic': {'ZONE_ID': 1.0, 'AREA': 756.53904}, 'Arctic Cordillera': {'ZONE_ID': 14.0, 'AREA': 7.53393}, 'Southern Arctic': {'ZONE_ID': 6.0, 'AREA': 300.76926}, 'Taiga Cordillera': {'ZONE_ID': 7.0, 'AREA': 50.9788}, 'Taiga Plain': {'ZONE_ID': 8.0, 'AREA': 118.55647}, 'Taiga Shield': {'ZONE_ID': 17.0, 'AREA': 115.4562}, 'Boreal Cordillera': {'ZONE_ID': 9.0, 'AREA': 77.11269}, 'Boreal PLain': {'ZONE_ID': 22.0, 'AREA': 0.20939}, 'Pacific Maritime': {'ZONE_ID': 18.0, 'AREA': 1.97253}, 'Boreal Shield': {'ZONE_ID': 19.0, 'AREA': 267.9649}, 'Hudson Plain': {'ZONE_ID': 20.0, 'AREA': 61.35808}, 'Montane Cordillera': {'ZONE_ID': 15.0, 'AREA': 65.38689}, 'Prairie': {'ZONE_ID': 21.0, 'AREA': 59.71671}, 'Atlantic Maritime': {'ZONE_ID': 24.0, 'AREA': 0.14229}, 'MixedWood Plain': {'ZONE_ID': 25.0, 'AREA': 19.139}}\n"
     ]
    }
   ],
   "source": [
    "# Path to your ecozones shapefile\n",
    "shapefile_path = \"D:\\environmental geomatics\\sem 1\\GEO115\\ecozone_shp\\Ecozones\\ecozones.shp\"\n",
    "\n",
    "# Initialize an empty dictionary\n",
    "ecozones = {}\n",
    "\n",
    "# Read the attribute table and extract relevant fields\n",
    "with arcpy.da.SearchCursor(shapefile_path, [\"ZONE_NAME\", \"ZONE_ID\", \"AREA\"]) as cursor:\n",
    "    for row in cursor:\n",
    "        zone_name, zone_id, area = row\n",
    "        ecozones[zone_name] = {\"ZONE_ID\": zone_id, \"AREA\": area}\n",
    "        \n",
    "# New 'ecozones' contains the desired information\n",
    "print(ecozones)"
   ]
  },
  {
   "cell_type": "code",
   "execution_count": 25,
   "metadata": {},
   "outputs": [
    {
     "name": "stdout",
     "output_type": "stream",
     "text": [
      "{'Northern Arctic': {'ZONE_ID': 1.0, 'ECOZONE': 2}, 'Arctic Cordillera': {'ZONE_ID': 14.0, 'ECOZONE': 1}, 'Southern Arctic': {'ZONE_ID': 6.0, 'ECOZONE': 3}, 'Taiga Cordillera': {'ZONE_ID': 7.0, 'ECOZONE': 11}, 'Taiga Plain': {'ZONE_ID': 8.0, 'ECOZONE': 4}, 'Taiga Shield': {'ZONE_ID': 17.0, 'ECOZONE': 5}, 'Boreal Cordillera': {'ZONE_ID': 9.0, 'ECOZONE': 12}, 'Boreal PLain': {'ZONE_ID': 22.0, 'ECOZONE': 9}, 'Pacific Maritime': {'ZONE_ID': 18.0, 'ECOZONE': 13}, 'Boreal Shield': {'ZONE_ID': 19.0, 'ECOZONE': 6}, 'Hudson Plain': {'ZONE_ID': 20.0, 'ECOZONE': 15}, 'Montane Cordillera': {'ZONE_ID': 15.0, 'ECOZONE': 14}, 'Prairie': {'ZONE_ID': 21.0, 'ECOZONE': 10}, 'Atlantic Maritime': {'ZONE_ID': 24.0, 'ECOZONE': 7}, 'MixedWood Plain': {'ZONE_ID': 25.0, 'ECOZONE': 8}}\n"
     ]
    }
   ],
   "source": [
    "# Path to your ecozones shapefile\n",
    "shapefile_path = \"D:\\environmental geomatics\\sem 1\\GEO115\\ecozone_shp\\Ecozones\\ecozones.shp\"\n",
    "\n",
    "# Initialize an empty dictionary\n",
    "ecozones = {}\n",
    "\n",
    "# Read the attribute table and extract relevant fields\n",
    "with arcpy.da.SearchCursor(shapefile_path, [\"ZONE_NAME\", \"ZONE_ID\", \"ECOZONE\"]) as cursor:\n",
    "    for row in cursor:\n",
    "        zone_name, zone_id, ecozone = row\n",
    "        ecozones[zone_name] = {\"ZONE_ID\": zone_id, \"ECOZONE\": ecozone}\n",
    "        \n",
    "# New 'ecozones' contains the desired information\n",
    "print(ecozones)"
   ]
  },
  {
   "cell_type": "code",
   "execution_count": 30,
   "metadata": {},
   "outputs": [
    {
     "name": "stdout",
     "output_type": "stream",
     "text": [
      "Buffer analysis complete. Output saved as ecozone_buffer.shp\n"
     ]
    }
   ],
   "source": [
    "# Specify the ZONE_ID to create a buffer for\n",
    "zone_id = 2\n",
    "\n",
    "# Create a feature layer for the specific ZONE_ID\n",
    "arcpy.MakeFeatureLayer_management(\"ecozones.shp\", \"zone_layer\", f\"ZONE_ID = {zone_id}\")\n",
    "\n",
    "# Perform buffer analysis on the selected polygon\n",
    "output_fc = \"ecozone_buffer.shp\"\n",
    "arcpy.Buffer_analysis(\"zone_layer\", output_fc, \"100 Kilometers\")\n",
    "\n",
    "# Print a message indicating the buffer analysis is complete\n",
    "print(f\"Buffer analysis complete. Output saved as {output_fc}\")"
   ]
  },
  {
   "cell_type": "code",
   "execution_count": 33,
   "metadata": {},
   "outputs": [
    {
     "name": "stdout",
     "output_type": "stream",
     "text": [
      "Field 'STUDENT_NM' added and populated with Avani Donga in ecozones.shp\n"
     ]
    }
   ],
   "source": [
    "# Add a new field to the ecozone feature class\n",
    "input_fc = \"ecozones.shp\"\n",
    "new_field_name = \"STUDENT_NM\"\n",
    "arcpy.AddField_management(input_fc, new_field_name, \"TEXT\")\n",
    "\n",
    "# Populate the new field with the student's full name\n",
    "student_name = \"Avani Donga\" \n",
    "with arcpy.da.UpdateCursor(input_fc, [new_field_name]) as cursor:\n",
    "    for row in cursor:\n",
    "        row[0] = student_name\n",
    "        cursor.updateRow(row)\n",
    "\n",
    "# Print a message indicating the field has been added and populated\n",
    "print(f\"Field '{new_field_name}' added and populated with {student_name} in {input_fc}\")\n"
   ]
  },
  {
   "cell_type": "code",
   "execution_count": 46,
   "metadata": {},
   "outputs": [
    {
     "ename": "RuntimeError",
     "evalue": "Object: Error in executing tool",
     "output_type": "error",
     "traceback": [
      "\u001b[0;31m---------------------------------------------------------------------------\u001b[0m\n\u001b[0;31mRuntimeError\u001b[0m                              Traceback (most recent call last)",
      "In  \u001b[0;34m[46]\u001b[0m:\nLine \u001b[0;34m4\u001b[0m:     arcpy.analysis.Statistics(in_table, out_table, statistics_fields)\u001b[37m\u001b[39;49;00m\n",
      "File \u001b[0;34mC:\\Program Files\\ArcGIS\\Pro\\Resources\\ArcPy\\arcpy\\analysis.py\u001b[0m, in \u001b[0;32mStatistics\u001b[0m:\nLine \u001b[0;34m2137\u001b[0m:  \u001b[34mraise\u001b[39;49;00m e\u001b[37m\u001b[39;49;00m\n",
      "File \u001b[0;34mC:\\Program Files\\ArcGIS\\Pro\\Resources\\ArcPy\\arcpy\\analysis.py\u001b[0m, in \u001b[0;32mStatistics\u001b[0m:\nLine \u001b[0;34m2134\u001b[0m:  retval = convertArcObjectToPythonObject(gp.Statistics_analysis(*gp_fixargs((in_table, out_table, statistics_fields, case_field, concatenation_separator), \u001b[34mTrue\u001b[39;49;00m)))\u001b[37m\u001b[39;49;00m\n",
      "File \u001b[0;34mC:\\Program Files\\ArcGIS\\Pro\\Resources\\ArcPy\\arcpy\\geoprocessing\\_base.py\u001b[0m, in \u001b[0;32m<lambda>\u001b[0m:\nLine \u001b[0;34m512\u001b[0m:   \u001b[34mreturn\u001b[39;49;00m \u001b[34mlambda\u001b[39;49;00m *args: val(*gp_fixargs(args, \u001b[34mTrue\u001b[39;49;00m))\u001b[37m\u001b[39;49;00m\n",
      "\u001b[0;31mRuntimeError\u001b[0m: Object: Error in executing tool\n\u001b[0;31m---------------------------------------------------------------------------\u001b[0m"
     ]
    }
   ],
   "source": [
    "in_table = \"D:\\environmental geomatics\\sem 1\\GEO115\\ecozone_shp\\Ecozones\\ecozones.shp\" \n",
    "out_table = {}\n",
    "statistics_fields = area\n",
    "arcpy.analysis.Statistics(in_table, out_table, statistics_fields)\n",
    "arcpy.analysis.Statistics(\"ecozones\", \"D:\\environmental geomatics\\sem 1\\GEO115\\ecozone_shp\\Ecozones\\ecozones1.shp\", [[\"Shape_Length\", \"SUM\"]], \"NM\")\n"
   ]
  },
  {
   "cell_type": "code",
   "execution_count": null,
   "metadata": {},
   "outputs": [],
   "source": []
  }
 ],
 "metadata": {
  "kernelspec": {
   "display_name": "ArcGISPro",
   "language": "Python",
   "name": "python3"
  },
  "language_info": {
   "file_extension": ".py",
   "name": "python",
   "version": "3"
  }
 },
 "nbformat": 4,
 "nbformat_minor": 2
}
