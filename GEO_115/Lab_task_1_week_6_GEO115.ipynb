{
 "cells": [
  {
   "cell_type": "code",
   "execution_count": 42,
   "metadata": {},
   "outputs": [
    {
     "name": "stdout",
     "output_type": "stream",
     "text": [
      "Intersection query completed.\n"
     ]
    }
   ],
   "source": [
    "import arcpy\n",
    "\n",
    "# Set the workspace\n",
    "arcpy.env.workspace = \"D:\\environmental geomatics\\sem 1\\Arc GIS\\GEO_115_Week_6_Assignment_5_A00172926\\GEO_115_Week_6_Assignment_5_A00172926.gdb\"\n",
    "\n",
    "# Read the shapefile\n",
    "national_parks = \"CLAB_CA_2023-09-08.shp\"\n",
    "ecozone = \"ecozones.shp\"\n",
    "\n",
    "# Define the input and intersect feature classes\n",
    "input_fc = national_parks\n",
    "intersect_fc = ecozone\n",
    "output_fc = \"output_intersect.shp\"\n",
    "\n",
    "#perform the intersection\n",
    "arcpy.analysis.Intersect([input_fc, intersect_fc], output_fc)\n",
    "print(\"Intersection query completed.\")"
   ]
  },
  {
   "cell_type": "code",
   "execution_count": 15,
   "metadata": {},
   "outputs": [
    {
     "name": "stdout",
     "output_type": "stream",
     "text": [
      "SQL query and spatial selection completed.\n"
     ]
    }
   ],
   "source": [
    "import arcpy\n",
    "\n",
    "# Set the workspace\n",
    "arcpy.env.workspace = \"D:\\environmental geomatics\\sem 1\\Arc GIS\\GEO_115_Week_6_Assignment_5_A00172926\\GEO_115_Week_6_Assignment_5_A00172926.gdb\"\n",
    "\n",
    "#define\n",
    "national_park = \"CLAB_CA_2023-09-08.shp\"\n",
    "national_parks_buffer = \"national_parks_buffer.shp\"\n",
    "\n",
    "# Define the input feature class and buffer distance\n",
    "input_fc = national_park\n",
    "buffer_fc = national_parks_buffer\n",
    "wetland_fc = \"WETLAND\"\n",
    "\n",
    "# Select Ontario national parks\n",
    "sql_query = \"CPC_CODE = 'ON'\"\n",
    "arcpy.management.MakeFeatureLayer(input_fc, \"national_parks_layer\", sql_query)\n",
    "\n",
    "# Creat a 20 km buffer around the selected national parks\n",
    "buffer_distance = \"20000 Meters\"\n",
    "arcpy.analysis.Buffer(\"national_parks_layer\", buffer_fc, buffer_distance)\n",
    "\n",
    "#select wetlands within the buffer zone\n",
    "arcpy.management.MakeFeatureLayer(wetland_fc, \"wetland_layer\")\n",
    "arcpy.management.SelectLayerByLocation(\"wetland_layer\", \"WITHIN\", buffer_fc, selection_type=\"NEW_SELECTION\")\n",
    "\n",
    "#Export the selected wetlands to a new feature class\n",
    "output_wetlands = \"wetland_within_20km.shp\"\n",
    "arcpy.management.CopyFeatures(\"wetland_layer\", output_wetlands)\n",
    "print(\"SQL query and spatial selection completed.\")\n"
   ]
  },
  {
   "cell_type": "code",
   "execution_count": null,
   "metadata": {},
   "outputs": [],
   "source": []
  },
  {
   "cell_type": "code",
   "execution_count": null,
   "metadata": {},
   "outputs": [],
   "source": []
  }
 ],
 "metadata": {
  "kernelspec": {
   "display_name": "ArcGISPro",
   "language": "Python",
   "name": "python3"
  },
  "language_info": {
   "file_extension": ".py",
   "name": "python",
   "version": "3"
  }
 },
 "nbformat": 4,
 "nbformat_minor": 2
}
